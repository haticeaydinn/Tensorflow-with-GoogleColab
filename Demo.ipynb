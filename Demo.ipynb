{
  "nbformat": 4,
  "nbformat_minor": 0,
  "metadata": {
    "colab": {
      "name": "Demo.ipynb",
      "provenance": [],
      "collapsed_sections": [],
      "authorship_tag": "ABX9TyOByhLeCkWCRgMaIkFcKZZW",
      "include_colab_link": true
    },
    "kernelspec": {
      "name": "python3",
      "display_name": "Python 3"
    }
  },
  "cells": [
    {
      "cell_type": "markdown",
      "metadata": {
        "id": "view-in-github",
        "colab_type": "text"
      },
      "source": [
        "<a href=\"https://colab.research.google.com/github/haticeaydinn/tensorflow-implementation/blob/master/Demo.ipynb\" target=\"_parent\"><img src=\"https://colab.research.google.com/assets/colab-badge.svg\" alt=\"Open In Colab\"/></a>"
      ]
    },
    {
      "cell_type": "code",
      "metadata": {
        "id": "tosb7wn0zjTb",
        "colab_type": "code",
        "outputId": "b89db88a-21da-4339-9600-30ede6dba776",
        "colab": {
          "base_uri": "https://localhost:8080/",
          "height": 34
        }
      },
      "source": [
        "%tensorflow_version 1.x\n",
        "import tensorflow as tf"
      ],
      "execution_count": 0,
      "outputs": [
        {
          "output_type": "stream",
          "text": [
            "TensorFlow 1.x selected.\n"
          ],
          "name": "stdout"
        }
      ]
    },
    {
      "cell_type": "code",
      "metadata": {
        "id": "5_4nga-i1ikW",
        "colab_type": "code",
        "outputId": "23af1ac8-c2b3-4208-821b-f5f0c149a944",
        "colab": {
          "base_uri": "https://localhost:8080/",
          "height": 51
        }
      },
      "source": [
        "sess = tf.Session()\n",
        "\n",
        "hello = tf.constant(\"Hello world\")\n",
        "print(sess.run(hello))\n",
        "\n",
        "a = tf.constant(20)\n",
        "b = tf.constant(22)\n",
        "\n",
        "print(f'a + b = {sess.run(a+b)}')"
      ],
      "execution_count": 0,
      "outputs": [
        {
          "output_type": "stream",
          "text": [
            "b'Hello world'\n",
            "a + b = 42\n"
          ],
          "name": "stdout"
        }
      ]
    }
  ]
}