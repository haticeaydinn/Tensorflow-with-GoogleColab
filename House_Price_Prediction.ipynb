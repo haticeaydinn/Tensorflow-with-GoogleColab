{
  "nbformat": 4,
  "nbformat_minor": 0,
  "metadata": {
    "colab": {
      "name": "House_Price_Prediction.ipynb",
      "provenance": [],
      "collapsed_sections": [],
      "authorship_tag": "ABX9TyMDYHluolMLAtkSMG8HpP68",
      "include_colab_link": true
    },
    "kernelspec": {
      "name": "python3",
      "display_name": "Python 3"
    }
  },
  "cells": [
    {
      "cell_type": "markdown",
      "metadata": {
        "id": "view-in-github",
        "colab_type": "text"
      },
      "source": [
        "<a href=\"https://colab.research.google.com/github/haticeaydinn/tensorflow-implementation/blob/master/House_Price_Prediction.ipynb\" target=\"_parent\"><img src=\"https://colab.research.google.com/assets/colab-badge.svg\" alt=\"Open In Colab\"/></a>"
      ]
    },
    {
      "cell_type": "code",
      "metadata": {
        "id": "wwp5VZTG3Af9",
        "colab_type": "code",
        "colab": {
          "base_uri": "https://localhost:8080/",
          "height": 34
        },
        "outputId": "803eeacf-92a2-41a2-85e9-7c06f7dfe62d"
      },
      "source": [
        "%tensorflow_version 1.x\n",
        "import tensorflow as tf\n",
        "import numpy as np\n",
        "import math\n",
        "import matplotlib.pyplot as plt\n",
        "import matplotlib.animation as animation"
      ],
      "execution_count": 1,
      "outputs": [
        {
          "output_type": "stream",
          "text": [
            "TensorFlow 1.x selected.\n"
          ],
          "name": "stdout"
        }
      ]
    },
    {
      "cell_type": "code",
      "metadata": {
        "id": "xvW-6rAS_B7_",
        "colab_type": "code",
        "colab": {}
      },
      "source": [
        "# generation some house sizes between 1000 and 3500 (typical sq ft of house)\n",
        "num_house = 160\n",
        "np.random.seed(42)\n",
        "house_size = np.random.randint(low=1000, high=3500, size=num_house)\n",
        "# print(house_size)\n",
        "\n",
        "\n",
        "# generate house prices from from house size with a random noise added\n",
        "np.random.seed(42)\n",
        "house_price = house_size * 100 + np.random.randint(low=20000, high=70000, size=num_house)\n",
        "# print(house_price)"
      ],
      "execution_count": 0,
      "outputs": []
    },
    {
      "cell_type": "code",
      "metadata": {
        "id": "bDRKMLGw-8ys",
        "colab_type": "code",
        "colab": {
          "base_uri": "https://localhost:8080/",
          "height": 279
        },
        "outputId": "eae5c947-fd34-4851-ce1e-6aad6b7be667"
      },
      "source": [
        "# plot generated house and size\n",
        "plt.plot(house_size, house_price, 'bo')\n",
        "plt.ylabel(\"Price\")\n",
        "plt.xlabel(\"Size\")\n",
        "plt.show()"
      ],
      "execution_count": 3,
      "outputs": [
        {
          "output_type": "display_data",
          "data": {
            "image/png": "[encoded data removed]",
            "text/plain": [
              "<Figure size 432x288 with 1 Axes>"
            ]
          },
          "metadata": {
            "tags": [],
            "needs_background": "light"
          }
        }
      ]
    },
    {
      "cell_type": "code",
      "metadata": {
        "id": "cQqPPUqJCNAf",
        "colab_type": "code",
        "colab": {}
      },
      "source": [
        "# need to normalize values to prevent under/overflows\n",
        "def normalize(array):\n",
        "  return (array - array.mean()) / array.std() # Standard Score normalization formula\n",
        "\n",
        "# define number of training samples, 70%. Take the first 70% since the values are randomized\n",
        "num_train_samples = math.floor(num_house * 0.7)\n"
      ],
      "execution_count": 0,
      "outputs": []
    },
    {
      "cell_type": "code",
      "metadata": {
        "id": "jCMuilL6JTwQ",
        "colab_type": "code",
        "colab": {}
      },
      "source": [
        "# define training data\n",
        "train_house_size = np.asarray(house_size[:num_train_samples])\n",
        "train_house_price = np.asanyarray(house_price[:num_train_samples])\n",
        "\n",
        "train_house_size_norm = normalize(train_house_size)\n",
        "train_house_price_norm = normalize(train_house_price)"
      ],
      "execution_count": 0,
      "outputs": []
    },
    {
      "cell_type": "code",
      "metadata": {
        "id": "dRaG3TrlJUbZ",
        "colab_type": "code",
        "colab": {}
      },
      "source": [
        "# define test data\n",
        "test_house_size = np.asarray(house_size[num_train_samples:])\n",
        "test_house_price = np.asanyarray(house_price[num_train_samples:])\n",
        "\n",
        "test_house_size_norm = normalize(test_house_size)\n",
        "test_house_price_norm = normalize(test_house_price)"
      ],
      "execution_count": 0,
      "outputs": []
    },
    {
      "cell_type": "code",
      "metadata": {
        "id": "M9SnVgSJPslY",
        "colab_type": "code",
        "colab": {}
      },
      "source": [
        "# set up TF placeholders that get updated as we descend down to gradient\n",
        "tf_house_size = tf.placeholder(\"float\", name=\"house_size\")\n",
        "tf_house_price = tf.placeholder(\"float\", name=\"house_price\")\n",
        "\n",
        "# it is a linear regression problem. So we use this equation --> y' = w*x + b (w=size_factor and b=price_offset)\n",
        "# define the variables holding the size_factor and price we set during training\n",
        "# we initialize them to some random values based on the normal distribution\n",
        "tf_size_factor = tf.Variable(np.random.randn(), name=\"size_factor\")\n",
        "tf_price_offset = tf.Variable(np.random.randn(), name=\"price_offset\")\n"
      ],
      "execution_count": 0,
      "outputs": []
    },
    {
      "cell_type": "code",
      "metadata": {
        "id": "Zm6VRsZzW4CU",
        "colab_type": "code",
        "colab": {}
      },
      "source": [
        "# define the operations for the predicted values\n",
        "tf_price_pred = tf.add(tf.multiply(tf_size_factor, tf_house_size), tf_price_offset)\n",
        "\n",
        "# define the loss function\n",
        "tf_cost = tf.reduce_sum(tf.pow(tf_price_pred - tf_house_price, 2)) / (2*num_train_samples)"
      ],
      "execution_count": 0,
      "outputs": []
    },
    {
      "cell_type": "code",
      "metadata": {
        "id": "6rdziy9cXaC3",
        "colab_type": "code",
        "colab": {
          "base_uri": "https://localhost:8080/",
          "height": 88
        },
        "outputId": "f8c68cc9-375a-458d-edde-a7a27f118131"
      },
      "source": [
        "# optimizer learning rate that is the size of the steps down gradient\n",
        "learning_rate = 0.1\n",
        "\n",
        "# define a Gradient Descent Optimizer taht will minimize the loss defined in the operation \"cost\"\n",
        "optimizer = tf.train.GradientDescentOptimizer(learning_rate).minimize(tf_cost)\n"
      ],
      "execution_count": 9,
      "outputs": [
        {
          "output_type": "stream",
          "text": [
            "WARNING:tensorflow:From /tensorflow-1.15.2/python3.6/tensorflow_core/python/ops/math_grad.py:1375: where (from tensorflow.python.ops.array_ops) is deprecated and will be removed in a future version.\n",
            "Instructions for updating:\n",
            "Use tf.where in 2.0, which has the same broadcast rule as np.where\n"
          ],
          "name": "stdout"
        }
      ]
    },
    {
      "cell_type": "code",
      "metadata": {
        "id": "WBTYr7pwZt-7",
        "colab_type": "code",
        "colab": {
          "base_uri": "https://localhost:8080/",
          "height": 959
        },
        "outputId": "cb0e57f0-7ade-40ad-94d3-afdb317ba119"
      },
      "source": [
        "# initialize the variables\n",
        "init = tf.global_variables_initializer()\n",
        "\n",
        "# launch the graph in the session\n",
        "# use with so we dont have to close the session or use the structure below:\n",
        "#   sess = tf.Session()\n",
        "#   sess.run()\n",
        "#   sess.close()\n",
        "with tf.Session() as sess:\n",
        "  sess.run(init)\n",
        "\n",
        "  # set how often to display training process and number of training iteration\n",
        "  display_every = 2\n",
        "  num_training_iter = 50\n",
        "\n",
        "  # keep iterating the training data:\n",
        "  for iteration in range(num_training_iter):\n",
        "\n",
        "    # fit all training data\n",
        "    for (x,y) in zip(train_house_size_norm, train_house_price_norm):\n",
        "      sess.run(optimizer, feed_dict = {tf_house_size: x, tf_house_price: y}) # feed placeholders\n",
        "\n",
        "    # display current status\n",
        "    if (iteration + 1) % display_every == 0:\n",
        "      c = sess.run(tf_cost, feed_dict = {tf_house_size: train_house_size_norm, tf_house_price: train_house_price_norm})\n",
        "      print(\"iteration #:\", '%02d' % (iteration + 1), \"cost=\", \"{:.9f}\".format(c), \\\n",
        "            \"size_factor=\", sess.run(tf_size_factor), \"price_offset=\", sess.run(tf_price_offset))\n",
        "      \n",
        "  print(\"Optimizer finished!\")\n",
        "  training_cost = sess.run(tf_cost, feed_dict = {tf_house_size: train_house_size_norm, tf_house_price: train_house_price_norm})\n",
        "  print(\"Trained cost=\", training_cost, \"size_factor=\", sess.run(tf_size_factor), \"price_offset=\", sess.run(tf_price_offset), \"\\n\")\n",
        "\n",
        "  # plot of training and test data, and learned regression\n",
        "  # get values used to normalized data so we can denormalize data back to its original scale\n",
        "  train_house_size_mean = train_house_size.mean()\n",
        "  train_house_size_std = train_house_size.std()\n",
        "\n",
        "\n",
        "  train_house_price_mean = train_house_price.mean()\n",
        "  train_house_price_std = train_house_price.std()\n",
        "\n",
        "  # plot the graph\n",
        "  plt.rcParams[\"figure.figsize\"] = (10,8)\n",
        "  plt.figure()\n",
        "  plt.ylabel = \"Price\"\n",
        "  plt.xlabel = \"Size (sq.ft)\"\n",
        "  plt.plot(train_house_size, train_house_price, \"go\", label=\"Training data\")\n",
        "  plt.plot(test_house_size, test_house_price, \"mo\", label=\"Testing data\")\n",
        "  plt.plot(train_house_size_norm * train_house_size_std + train_house_size_mean,\n",
        "           (sess.run(tf_size_factor) * train_house_size_norm + sess.run(tf_price_offset)) * train_house_price_std + train_house_price_mean,\n",
        "           label=\"Learned Regression\")\n",
        "  \n",
        "  plt.legend(loc=\"upper left\")\n",
        "  plt.show()\n",
        "\n",
        "\n",
        "\n"
      ],
      "execution_count": 11,
      "outputs": [
        {
          "output_type": "stream",
          "text": [
            "iteration #: 02 cost= 0.720058978 size_factor= 0.09177997 price_offset= -0.78197587\n",
            "iteration #: 04 cost= 0.488989919 size_factor= 0.25305912 price_offset= -0.6400547\n",
            "iteration #: 06 cost= 0.334198892 size_factor= 0.38506958 price_offset= -0.52387947\n",
            "iteration #: 08 cost= 0.230510592 size_factor= 0.4931228 price_offset= -0.42877954\n",
            "iteration #: 10 cost= 0.161057383 size_factor= 0.5815667 price_offset= -0.35093102\n",
            "iteration #: 12 cost= 0.114538930 size_factor= 0.65396035 price_offset= -0.2872049\n",
            "iteration #: 14 cost= 0.083384469 size_factor= 0.713216 price_offset= -0.23503916\n",
            "iteration #: 16 cost= 0.062521778 size_factor= 0.76171756 price_offset= -0.19233663\n",
            "iteration #: 18 cost= 0.048552584 size_factor= 0.8014175 price_offset= -0.1573807\n",
            "iteration #: 20 cost= 0.039200630 size_factor= 0.8339127 price_offset= -0.1287661\n",
            "iteration #: 22 cost= 0.032940891 size_factor= 0.86051065 price_offset= -0.10534229\n",
            "iteration #: 24 cost= 0.028751854 size_factor= 0.882282 price_offset= -0.08616769\n",
            "iteration #: 26 cost= 0.025949381 size_factor= 0.90010184 price_offset= -0.07047155\n",
            "iteration #: 28 cost= 0.024075124 size_factor= 0.9146879 price_offset= -0.05762279\n",
            "iteration #: 30 cost= 0.022822181 size_factor= 0.92662656 price_offset= -0.04710484\n",
            "iteration #: 32 cost= 0.021984996 size_factor= 0.9363989 price_offset= -0.038494952\n",
            "iteration #: 34 cost= 0.021425985 size_factor= 0.9443974 price_offset= -0.031446975\n",
            "iteration #: 36 cost= 0.021052983 size_factor= 0.9509445 price_offset= -0.025677538\n",
            "iteration #: 38 cost= 0.020804336 size_factor= 0.9563038 price_offset= -0.02095472\n",
            "iteration #: 40 cost= 0.020638786 size_factor= 0.96069014 price_offset= -0.017088648\n",
            "iteration #: 42 cost= 0.020528717 size_factor= 0.9642808 price_offset= -0.013923923\n",
            "iteration #: 44 cost= 0.020455673 size_factor= 0.96721953 price_offset= -0.01133329\n",
            "iteration #: 46 cost= 0.020407304 size_factor= 0.96962523 price_offset= -0.009212623\n",
            "iteration #: 48 cost= 0.020375367 size_factor= 0.97159415 price_offset= -0.0074766623\n",
            "iteration #: 50 cost= 0.020354357 size_factor= 0.97320557 price_offset= -0.006055611\n",
            "Optimizer finished!\n",
            "Trained cost= 0.020354357 size_factor= 0.97320557 price_offset= -0.006055611 \n",
            "\n"
          ],
          "name": "stdout"
        },
        {
          "output_type": "display_data",
          "data": {
            "image/png": "[encoded data removed]",
            "text/plain": [
              "<Figure size 720x576 with 1 Axes>"
            ]
          },
          "metadata": {
            "tags": [],
            "needs_background": "light"
          }
        }
      ]
    }
  ]
}