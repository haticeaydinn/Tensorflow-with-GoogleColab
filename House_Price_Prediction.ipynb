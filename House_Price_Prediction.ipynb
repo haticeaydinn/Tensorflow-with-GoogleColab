{
  "nbformat": 4,
  "nbformat_minor": 0,
  "metadata": {
    "colab": {
      "name": "House_Price_Prediction.ipynb",
      "provenance": [],
      "collapsed_sections": [],
      "authorship_tag": "ABX9TyOiZ0vLPtuyekFMPjqK79WD",
      "include_colab_link": true
    },
    "kernelspec": {
      "name": "python3",
      "display_name": "Python 3"
    }
  },
  "cells": [
    {
      "cell_type": "markdown",
      "metadata": {
        "id": "view-in-github",
        "colab_type": "text"
      },
      "source": [
        "<a href=\"https://colab.research.google.com/github/haticeaydinn/tensorflow-implementation/blob/master/House_Price_Prediction.ipynb\" target=\"_parent\"><img src=\"https://colab.research.google.com/assets/colab-badge.svg\" alt=\"Open In Colab\"/></a>"
      ]
    },
    {
      "cell_type": "code",
      "metadata": {
        "id": "wwp5VZTG3Af9",
        "colab_type": "code",
        "colab": {
          "base_uri": "https://localhost:8080/",
          "height": 34
        },
        "outputId": "38a732e3-705d-44e5-a9c1-996e1729edca"
      },
      "source": [
        "%tensorflow_version 1.x\n",
        "import tensorflow as tf\n",
        "import numpy as np\n",
        "import math\n",
        "import matplotlib.pyplot as plt\n",
        "import matplotlib.animation as animation"
      ],
      "execution_count": 1,
      "outputs": [
        {
          "output_type": "stream",
          "text": [
            "TensorFlow 1.x selected.\n"
          ],
          "name": "stdout"
        }
      ]
    },
    {
      "cell_type": "code",
      "metadata": {
        "id": "xvW-6rAS_B7_",
        "colab_type": "code",
        "colab": {}
      },
      "source": [
        "# generation some house sizes between 1000 and 3500 (typical sq ft of house)\n",
        "num_house = 160\n",
        "np.random.seed(42)\n",
        "house_size = np.random.randint(low=1000, high=3500, size=num_house)\n",
        "# print(house_size)\n",
        "\n",
        "\n",
        "# generate house prices from from house size with a random noise added\n",
        "np.random.seed(42)\n",
        "house_price = house_size * 100 + np.random.randint(low=20000, high=70000, size=num_house)\n",
        "# print(house_price)"
      ],
      "execution_count": 0,
      "outputs": []
    },
    {
      "cell_type": "code",
      "metadata": {
        "id": "bDRKMLGw-8ys",
        "colab_type": "code",
        "colab": {
          "base_uri": "https://localhost:8080/",
          "height": 279
        },
        "outputId": "4b8c6744-515f-4ba3-ab3b-b86eecc1c577"
      },
      "source": [
        "# plot generated house and size\n",
        "plt.plot(house_size, house_price, 'bo')\n",
        "plt.ylabel(\"Price\")\n",
        "plt.xlabel(\"Size\")\n",
        "plt.show()"
      ],
      "execution_count": 3,
      "outputs": [
        {
          "output_type": "display_data",
          "data": {
            "image/png": "[encoded data removed]",
            "text/plain": [
              "<Figure size 432x288 with 1 Axes>"
            ]
          },
          "metadata": {
            "tags": [],
            "needs_background": "light"
          }
        }
      ]
    },
    {
      "cell_type": "code",
      "metadata": {
        "id": "cQqPPUqJCNAf",
        "colab_type": "code",
        "colab": {}
      },
      "source": [
        "# need to normalize values to prevent under/overflows\n",
        "def normalize(array):\n",
        "  return (array - array.mean()) / array.std() # Standard Score normalization formula\n",
        "\n",
        "# define number of training samples, 70%. Take the first 70% since the values are randomized\n",
        "num_train_samples = math.floor(num_house * 0.7)\n"
      ],
      "execution_count": 0,
      "outputs": []
    },
    {
      "cell_type": "code",
      "metadata": {
        "id": "jCMuilL6JTwQ",
        "colab_type": "code",
        "colab": {}
      },
      "source": [
        "# define training data\n",
        "train_house_size = np.asarray(house_size[:num_train_samples])\n",
        "train_house_price = np.asanyarray(house_price[:num_train_samples])\n",
        "\n",
        "train_house_size_norm = normalize(train_house_size)\n",
        "train_house_price_norm = normalize(train_house_price)"
      ],
      "execution_count": 0,
      "outputs": []
    },
    {
      "cell_type": "code",
      "metadata": {
        "id": "dRaG3TrlJUbZ",
        "colab_type": "code",
        "colab": {}
      },
      "source": [
        "# define test data\n",
        "test_house_size = np.asarray(house_size[num_train_samples:])\n",
        "test_house_price = np.asanyarray(house_price[num_train_samples:])\n",
        "\n",
        "test_house_size_norm = normalize(test_house_size)\n",
        "test_house_price_norm = normalize(test_house_price)"
      ],
      "execution_count": 0,
      "outputs": []
    },
    {
      "cell_type": "code",
      "metadata": {
        "id": "M9SnVgSJPslY",
        "colab_type": "code",
        "colab": {}
      },
      "source": [
        "# set up TF placeholders that get updated as we descend down to gradient\n",
        "tf_house_size = tf.placeholder(\"float\", name=\"house_size\")\n",
        "tf_house_price = tf.placeholder(\"float\", name=\"house_price\")\n",
        "\n",
        "# it is a linear regression problem. So we use this equation --> y' = w*x + b (w=size_factor and b=price_offset)\n",
        "# define the variables holding the size_factor and price we set during training\n",
        "# we initialize them to some random values based on the normal distribution\n",
        "tf_size_factor = tf.Variable(np.random.randn(), name=\"size_factor\")\n",
        "tf_price_offset = tf.Variable(np.random.randn(), name=\"price_offset\")\n"
      ],
      "execution_count": 0,
      "outputs": []
    },
    {
      "cell_type": "code",
      "metadata": {
        "id": "Zm6VRsZzW4CU",
        "colab_type": "code",
        "colab": {}
      },
      "source": [
        "# define the operations for the predicted values\n",
        "tf_price_pred = tf.add(tf.multiply(tf_house_price, tf_size_factor), tf_price_offset)\n",
        "\n",
        "# define the loss function\n",
        "tf_cost = tf.reduce_sum(tf.pow(tf_price_pred - tf_house_price, 2)) / (2*num_train_samples)"
      ],
      "execution_count": 0,
      "outputs": []
    },
    {
      "cell_type": "code",
      "metadata": {
        "id": "6rdziy9cXaC3",
        "colab_type": "code",
        "colab": {
          "base_uri": "https://localhost:8080/",
          "height": 88
        },
        "outputId": "cc731ec0-10c4-423c-869b-0a162baacef8"
      },
      "source": [
        "# optimizer learning rate that is the size of the steps down gradient\n",
        "learning_rate = 0.1\n",
        "\n",
        "# define a Gradient Descent Optimizer taht will minimize the loss defined in the operation \"cost\"\n",
        "optimizer = tf.train.GradientDescentOptimizer(learning_rate).minimize(tf_cost)\n"
      ],
      "execution_count": 9,
      "outputs": [
        {
          "output_type": "stream",
          "text": [
            "WARNING:tensorflow:From /tensorflow-1.15.2/python3.6/tensorflow_core/python/ops/math_grad.py:1375: where (from tensorflow.python.ops.array_ops) is deprecated and will be removed in a future version.\n",
            "Instructions for updating:\n",
            "Use tf.where in 2.0, which has the same broadcast rule as np.where\n"
          ],
          "name": "stdout"
        }
      ]
    },
    {
      "cell_type": "code",
      "metadata": {
        "id": "WBTYr7pwZt-7",
        "colab_type": "code",
        "colab": {
          "base_uri": "https://localhost:8080/",
          "height": 959
        },
        "outputId": "76a5bd80-e39a-4948-d0f1-e1b88fb7e6f6"
      },
      "source": [
        "# initialize the variables\n",
        "init = tf.global_variables_initializer()\n",
        "\n",
        "# launch the graph in the session\n",
        "# use with so we dont have to close the session or use the structure below:\n",
        "#   sess = tf.Session()\n",
        "#   sess.run()\n",
        "#   sess.close()\n",
        "with tf.Session() as sess:\n",
        "  sess.run(init)\n",
        "\n",
        "  # set how often to display training process and number of training iteration\n",
        "  display_every = 2\n",
        "  num_training_iter = 50\n",
        "\n",
        "  # keep iterating the training data:\n",
        "  for iteration in range(num_training_iter):\n",
        "\n",
        "    # fit all training data\n",
        "    for (x,y) in zip(train_house_size_norm, train_house_price_norm):\n",
        "      sess.run(optimizer, feed_dict = {tf_house_size: x, tf_house_price: y}) # feed placeholders\n",
        "\n",
        "    # display current status\n",
        "    if (iteration + 1) % display_every == 0:\n",
        "      c = sess.run(tf_cost, feed_dict = {tf_house_size: x, tf_house_price: y})\n",
        "      print(\"iteration #:\", '%02d' % (iteration + 1), \"cost=\", \"{:.9f}\".format(c), \\\n",
        "            \"size_factor=\", sess.run(tf_size_factor), \"price_offset=\", sess.run(tf_price_offset))\n",
        "      \n",
        "  print(\"Optimizer finished!\")\n",
        "  training_cost = sess.run(tf_cost, feed_dict = {tf_house_size: train_house_size_norm, tf_house_price: train_house_price_norm})\n",
        "  print(\"Trained cost=\", training_cost, \"size_factor=\", sess.run(tf_size_factor), \"price_offset=\", sess.run(tf_price_offset), \"\\n\")\n",
        "\n",
        "  # plot of training and test data, and learned regression\n",
        "  # get values used to normalized data so we can denormalize data back to its original scale\n",
        "  train_house_size_mean = train_house_size.mean()\n",
        "  train_house_size_std = train_house_size.std()\n",
        "\n",
        "\n",
        "  train_house_price_mean = train_house_price.mean()\n",
        "  train_house_price_std = train_house_price.std()\n",
        "\n",
        "  # plot the graph\n",
        "  plt.rcParams[\"figure.figsize\"] = (10,8)\n",
        "  plt.figure()\n",
        "  plt.ylabel = \"Price\"\n",
        "  plt.xlabel = \"Size (sq.ft)\"\n",
        "  plt.plot(train_house_size, train_house_price, \"go\", label=\"Training data\")\n",
        "  plt.plot(test_house_size, test_house_price, \"mo\", label=\"Testing data\")\n",
        "  plt.plot(train_house_size_norm * train_house_size_std + train_house_size_mean,\n",
        "           (sess.run(tf_size_factor) * train_house_size_norm + sess.run(tf_price_offset)) * train_house_price_std + train_house_price_mean,\n",
        "           label=\"Learned Regression\")\n",
        "  \n",
        "  plt.legend(loc=\"upper left\")\n",
        "  plt.show()\n",
        "\n",
        "\n",
        "\n"
      ],
      "execution_count": 37,
      "outputs": [
        {
          "output_type": "stream",
          "text": [
            "iteration #: 02 cost= 0.000293750 size_factor= 0.095319286 price_offset= -0.7820396\n",
            "iteration #: 04 cost= 0.000196708 size_factor= 0.25949615 price_offset= -0.64017224\n",
            "iteration #: 06 cost= 0.000131724 size_factor= 0.39387918 price_offset= -0.52404034\n",
            "iteration #: 08 cost= 0.000088209 size_factor= 0.5038749 price_offset= -0.42897546\n",
            "iteration #: 10 cost= 0.000059069 size_factor= 0.5939092 price_offset= -0.35115603\n",
            "iteration #: 12 cost= 0.000039555 size_factor= 0.6676041 price_offset= -0.28745398\n",
            "iteration #: 14 cost= 0.000026488 size_factor= 0.7279258 price_offset= -0.23530789\n",
            "iteration #: 16 cost= 0.000017737 size_factor= 0.77730066 price_offset= -0.19262147\n",
            "iteration #: 18 cost= 0.000011878 size_factor= 0.8177151 price_offset= -0.15767857\n",
            "iteration #: 20 cost= 0.000007954 size_factor= 0.85079545 price_offset= -0.12907462\n",
            "iteration #: 22 cost= 0.000005326 size_factor= 0.8778726 price_offset= -0.105659574\n",
            "iteration #: 24 cost= 0.000003566 size_factor= 0.90003586 price_offset= -0.086492226\n",
            "iteration #: 26 cost= 0.000002388 size_factor= 0.91817665 price_offset= -0.070802\n",
            "iteration #: 28 cost= 0.000001599 size_factor= 0.9330259 price_offset= -0.05795804\n",
            "iteration #: 30 cost= 0.000001071 size_factor= 0.9451795 price_offset= -0.047444064\n",
            "iteration #: 32 cost= 0.000000717 size_factor= 0.9551284 price_offset= -0.038837377\n",
            "iteration #: 34 cost= 0.000000480 size_factor= 0.9632717 price_offset= -0.03179201\n",
            "iteration #: 36 cost= 0.000000322 size_factor= 0.96993667 price_offset= -0.026024723\n",
            "iteration #: 38 cost= 0.000000215 size_factor= 0.9753927 price_offset= -0.021303657\n",
            "iteration #: 40 cost= 0.000000144 size_factor= 0.97985804 price_offset= -0.017439015\n",
            "iteration #: 42 cost= 0.000000097 size_factor= 0.983513 price_offset= -0.014275447\n",
            "iteration #: 44 cost= 0.000000065 size_factor= 0.9865048 price_offset= -0.011685787\n",
            "iteration #: 46 cost= 0.000000043 size_factor= 0.98895377 price_offset= -0.009565906\n",
            "iteration #: 48 cost= 0.000000029 size_factor= 0.99095815 price_offset= -0.007830582\n",
            "iteration #: 50 cost= 0.000000019 size_factor= 0.9925992 price_offset= -0.006410058\n",
            "Optimizer finished!\n",
            "Trained cost= 4.793026e-05 size_factor= 0.9925992 price_offset= -0.006410058 \n",
            "\n"
          ],
          "name": "stdout"
        },
        {
          "output_type": "display_data",
          "data": {
            "image/png": "[encoded data removed]",
            "text/plain": [
              "<Figure size 720x576 with 1 Axes>"
            ]
          },
          "metadata": {
            "tags": [],
            "needs_background": "light"
          }
        }
      ]
    }
  ]
}