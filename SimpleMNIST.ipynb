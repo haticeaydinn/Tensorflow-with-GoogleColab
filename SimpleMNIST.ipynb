{
  "nbformat": 4,
  "nbformat_minor": 0,
  "metadata": {
    "colab": {
      "name": "SimpleMNIST.ipynb",
      "provenance": [],
      "collapsed_sections": [],
      "authorship_tag": "ABX9TyOkQOikHy+E8b3PvjLIWSXQ",
      "include_colab_link": true
    },
    "kernelspec": {
      "name": "python3",
      "display_name": "Python 3"
    }
  },
  "cells": [
    {
      "cell_type": "markdown",
      "metadata": {
        "id": "view-in-github",
        "colab_type": "text"
      },
      "source": [
        "<a href=\"https://colab.research.google.com/github/haticeaydinn/tensorflow-implementation/blob/master/SimpleMNIST.ipynb\" target=\"_parent\"><img src=\"https://colab.research.google.com/assets/colab-badge.svg\" alt=\"Open In Colab\"/></a>"
      ]
    },
    {
      "cell_type": "code",
      "metadata": {
        "id": "1iC1RtNgiVJ-",
        "colab_type": "code",
        "outputId": "350e93a6-3c62-40c2-954f-a69ba3a1f860",
        "colab": {
          "base_uri": "https://localhost:8080/",
          "height": 34
        }
      },
      "source": [
        "import numpy as np\n",
        "import matplotlib.pyplot as plt\n",
        "%tensorflow_version 1.x\n",
        "import tensorflow as tf\n",
        "from tensorflow.examples.tutorials.mnist import input_data"
      ],
      "execution_count": 0,
      "outputs": [
        {
          "output_type": "stream",
          "text": [
            "TensorFlow 1.x selected.\n"
          ],
          "name": "stdout"
        }
      ]
    },
    {
      "cell_type": "markdown",
      "metadata": {
        "id": "GsWjW1CdS6zH",
        "colab_type": "text"
      },
      "source": [
        "**STEP 1: GET THE DATA**"
      ]
    },
    {
      "cell_type": "code",
      "metadata": {
        "id": "hQXQq504lGiD",
        "colab_type": "code",
        "outputId": "946a5f5e-efca-4f29-a948-3f6ccb59ebb3",
        "colab": {
          "base_uri": "https://localhost:8080/",
          "height": 411
        }
      },
      "source": [
        "# get the data\n",
        "# with one hot, function returns only the highest probability digit as the digit that handwriting sample represents\n",
        "mnist = input_data.read_data_sets(\"MNIST_data/\", one_hot=True)"
      ],
      "execution_count": 0,
      "outputs": [
        {
          "output_type": "stream",
          "text": [
            "WARNING:tensorflow:From <ipython-input-2-a839aeb82f4b>:1: read_data_sets (from tensorflow.contrib.learn.python.learn.datasets.mnist) is deprecated and will be removed in a future version.\n",
            "Instructions for updating:\n",
            "Please use alternatives such as official/mnist/dataset.py from tensorflow/models.\n",
            "WARNING:tensorflow:From /tensorflow-1.15.2/python3.6/tensorflow_core/contrib/learn/python/learn/datasets/mnist.py:260: maybe_download (from tensorflow.contrib.learn.python.learn.datasets.base) is deprecated and will be removed in a future version.\n",
            "Instructions for updating:\n",
            "Please write your own downloading logic.\n",
            "WARNING:tensorflow:From /tensorflow-1.15.2/python3.6/tensorflow_core/contrib/learn/python/learn/datasets/mnist.py:262: extract_images (from tensorflow.contrib.learn.python.learn.datasets.mnist) is deprecated and will be removed in a future version.\n",
            "Instructions for updating:\n",
            "Please use tf.data to implement this functionality.\n",
            "Extracting MNIST_data/train-images-idx3-ubyte.gz\n",
            "WARNING:tensorflow:From /tensorflow-1.15.2/python3.6/tensorflow_core/contrib/learn/python/learn/datasets/mnist.py:267: extract_labels (from tensorflow.contrib.learn.python.learn.datasets.mnist) is deprecated and will be removed in a future version.\n",
            "Instructions for updating:\n",
            "Please use tf.data to implement this functionality.\n",
            "Extracting MNIST_data/train-labels-idx1-ubyte.gz\n",
            "WARNING:tensorflow:From /tensorflow-1.15.2/python3.6/tensorflow_core/contrib/learn/python/learn/datasets/mnist.py:110: dense_to_one_hot (from tensorflow.contrib.learn.python.learn.datasets.mnist) is deprecated and will be removed in a future version.\n",
            "Instructions for updating:\n",
            "Please use tf.one_hot on tensors.\n",
            "Extracting MNIST_data/t10k-images-idx3-ubyte.gz\n",
            "Extracting MNIST_data/t10k-labels-idx1-ubyte.gz\n",
            "WARNING:tensorflow:From /tensorflow-1.15.2/python3.6/tensorflow_core/contrib/learn/python/learn/datasets/mnist.py:290: DataSet.__init__ (from tensorflow.contrib.learn.python.learn.datasets.mnist) is deprecated and will be removed in a future version.\n",
            "Instructions for updating:\n",
            "Please use alternatives such as official/mnist/dataset.py from tensorflow/models.\n"
          ],
          "name": "stdout"
        }
      ]
    },
    {
      "cell_type": "markdown",
      "metadata": {
        "id": "s9QVaGzqTB3v",
        "colab_type": "text"
      },
      "source": [
        "**STEP 2: SET UP PLACEHOLDERS AND VARIABLES IN THE COMPUTATION GRAPH**"
      ]
    },
    {
      "cell_type": "code",
      "metadata": {
        "id": "744AbJK2oA0n",
        "colab_type": "code",
        "colab": {}
      },
      "source": [
        "# images are 28x28 pixels and equals to 784\n",
        "# none means we know this dimension exists but dont know how many items will be in it\n",
        "x = tf.placeholder(tf.float32, shape=[None, 784])\n",
        "\n",
        "# y_ is the probabilty bar and contains 10 class (1 to 9)\n",
        "# example [0.14, 0.8, 0, 0, 0, 0, 0, 0, 0, 0.06]\n",
        "y_ = tf.placeholder(tf.float32, [None, 10])\n",
        "\n",
        "# define weights and bias\n",
        "W = tf.Variable(tf.zeros([784, 10]))\n",
        "b = tf.Variable(tf.zeros([10]))"
      ],
      "execution_count": 0,
      "outputs": []
    },
    {
      "cell_type": "markdown",
      "metadata": {
        "id": "o9iNQ7JQcFCI",
        "colab_type": "text"
      },
      "source": [
        "**STEP 3: DEFINE THE INFERENCE FUNCTION (digit predictor)**"
      ]
    },
    {
      "cell_type": "code",
      "metadata": {
        "id": "aaLBzJ-yrEub",
        "colab_type": "code",
        "colab": {}
      },
      "source": [
        "# define our model\n",
        "y = tf.nn.softmax(tf.matmul(x, W) + b)\n",
        "\n",
        "# softmax function is used as activation because \n",
        "# it turns numbers aka logits into probabilities that sum to one. \n",
        "# softmax function outputs a vector that represents the probability distributions of a list of potential outcomes"
      ],
      "execution_count": 0,
      "outputs": []
    },
    {
      "cell_type": "markdown",
      "metadata": {
        "id": "tjDfMikxcQ5A",
        "colab_type": "text"
      },
      "source": [
        "**STEP 4: DEFINE LOSS MEASUREMENT**"
      ]
    },
    {
      "cell_type": "code",
      "metadata": {
        "id": "5u8U6vAldMxC",
        "colab_type": "code",
        "colab": {}
      },
      "source": [
        "# define cross entropy as loss function\n",
        "cross_entropy = tf.reduce_mean(tf.nn.softmax_cross_entropy_with_logits(labels=y_, logits=y))\n",
        "\n",
        "# reduce_mean: give us the mean of the differences (y_ - y)"
      ],
      "execution_count": 0,
      "outputs": []
    },
    {
      "cell_type": "markdown",
      "metadata": {
        "id": "KUAKcOI0dQkl",
        "colab_type": "text"
      },
      "source": [
        "**STEP 5: DEFINE OPTIMMIZER TO MINIMIZE LOSS**"
      ]
    },
    {
      "cell_type": "code",
      "metadata": {
        "id": "jQKnnNIhdfbn",
        "colab_type": "code",
        "colab": {}
      },
      "source": [
        "# each training step in gradient descent, we want to minimize loss\n",
        "training_step = tf.train.GradientDescentOptimizer(2.7).minimize(cross_entropy)"
      ],
      "execution_count": 0,
      "outputs": []
    },
    {
      "cell_type": "markdown",
      "metadata": {
        "id": "0xEK-nfFdhxv",
        "colab_type": "text"
      },
      "source": [
        "**STEP 6: TRAINING AND TESTING**"
      ]
    },
    {
      "cell_type": "code",
      "metadata": {
        "id": "5a6c9CJisMbR",
        "colab_type": "code",
        "outputId": "82456891-d2f1-4757-a793-88d121f2333f",
        "colab": {
          "base_uri": "https://localhost:8080/",
          "height": 34
        }
      },
      "source": [
        "# up to here, we completed our computation graph and we are ready to create a session\n",
        "\n",
        "init = tf.global_variables_initializer()\n",
        "\n",
        "# create session\n",
        "with tf.Session() as sess:\n",
        "  # perform the initialization which is only the initialization of all global variables\n",
        "  sess.run(init)\n",
        "\n",
        "  # perform 1000 training steps\n",
        "  for steps in range(1000):\n",
        "    batch_xs, batch_ys = mnist.train.next_batch(100) # get 100 random data points from data\n",
        "                                                     # batch_xs = image data, batch_ys = digit(0, 9) class\n",
        "\n",
        "    sess.run(training_step, feed_dict={x: batch_xs, y_: batch_ys}) # do the optimization with this data\n",
        "\n",
        "  correct_pred = tf.equal(tf.argmax(y,1), tf.argmax(y_,1)) #it returns a tensor list includes [True, False, False,...]\n",
        "  accuracy = tf.reduce_mean(tf.cast(correct_pred, tf.float32)) # tf.cast: convert True--> 1 and False-->0\n",
        "\n",
        "  # use test data and evaluate the model performance\n",
        "  test_accuracy = sess.run(accuracy, feed_dict= {x: mnist.test.images, y_: mnist.test.labels})\n",
        "  print(f'Test accuracy is {test_accuracy * 100}')\n"
      ],
      "execution_count": 0,
      "outputs": [
        {
          "output_type": "stream",
          "text": [
            "Test accuracy is 92.11999773979187\n"
          ],
          "name": "stdout"
        }
      ]
    }
  ]
}